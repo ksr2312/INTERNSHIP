{
 "cells": [
  {
   "cell_type": "markdown",
   "id": "a6c9a17b",
   "metadata": {},
   "source": [
    "# <CENTER><U>BLACK FRIDAY PREDICTION<CENTER><U>\n",
    "    \n",
    "### Problem Statement:\n",
    "    \n",
    "- A retail company “ABC Private Limited” wants to understand the customer purchase behaviour (specifically, purchase amount) against various products of different categories.\n",
    "- They have shared purchase summary of various customers for selected high volume products from last month.\n",
    "- The data set also contains customer demographics (age, gender, marital status, city_type, stay_in_current_city), product details (product_id and product category) and Total purchase_amount from last month.\n",
    "- Now, they want to build a model to predict the purchase amount of customer against various products which will help them to create personalized offer for customers against different products.\n",
    "\n",
    "• Data\n",
    "• Variable Definition\n",
    "• User_ID User ID\n",
    "• Product_ID Product ID\n",
    "• Gender Sex of User\n",
    "• Age Age in bins\n",
    "• Occupation Occupation (Masked)\n",
    "• City_Category Category of the City (A,B,C)\n",
    "• Stay_In_Current_City_Years Number of years stay in current city\n",
    "• Marital_Status Marital Status\n",
    "• Product_Category_1 Product Category (Masked)\n",
    "• Product_Category_2 Product may belongs to other category also (Masked)\n",
    "• Product_Category_3 Product may belongs to other category also (Masked)\n",
    "• Purchase Purchase Amount (Target Variable)\n",
    "    \n",
    "**Note : Data Scientists have to apply their analytical skills to give findings and conclusions in detailed data analysis written in jupyter notebook . Only data analysis is required.** \n",
    "    \n",
    "***"
   ]
  },
  {
   "cell_type": "markdown",
   "id": "fb376582",
   "metadata": {},
   "source": [
    "### Importing Necessary Libraries:"
   ]
  },
  {
   "cell_type": "code",
   "execution_count": 60,
   "id": "dc6c9b58",
   "metadata": {},
   "outputs": [],
   "source": [
    "# Let's import all required Libraries:\n",
    "\n",
    "import pandas as pd # to create Dataframe & for data wrangling purpose.\n",
    "import numpy as np # Basic computation library\n",
    "\n",
    "import warnings # Filtering warnings\n",
    "warnings.filterwarnings(\"ignore\") # to ignore any sort of warning \n",
    "\n",
    "import seaborn as sns # For Visualization \n",
    "import matplotlib.pyplot as plt # ploting package\n",
    "%matplotlib inline"
   ]
  },
  {
   "cell_type": "markdown",
   "id": "8cc473ae",
   "metadata": {},
   "source": [
    "### Importing dataset Train CSV file:"
   ]
  },
  {
   "cell_type": "code",
   "execution_count": 104,
   "id": "35789024",
   "metadata": {},
   "outputs": [
    {
     "name": "stdout",
     "output_type": "stream",
     "text": [
      "No. of Rows : 550068\n",
      "No. of Columns : 12\n"
     ]
    },
    {
     "data": {
      "text/html": [
       "<div>\n",
       "<style scoped>\n",
       "    .dataframe tbody tr th:only-of-type {\n",
       "        vertical-align: middle;\n",
       "    }\n",
       "\n",
       "    .dataframe tbody tr th {\n",
       "        vertical-align: top;\n",
       "    }\n",
       "\n",
       "    .dataframe thead th {\n",
       "        text-align: right;\n",
       "    }\n",
       "</style>\n",
       "<table border=\"1\" class=\"dataframe\">\n",
       "  <thead>\n",
       "    <tr style=\"text-align: right;\">\n",
       "      <th></th>\n",
       "      <th>User_ID</th>\n",
       "      <th>Product_ID</th>\n",
       "      <th>Gender</th>\n",
       "      <th>Age</th>\n",
       "      <th>Occupation</th>\n",
       "      <th>City_Category</th>\n",
       "      <th>Stay_In_Current_City_Years</th>\n",
       "      <th>Marital_Status</th>\n",
       "      <th>Product_Category_1</th>\n",
       "      <th>Product_Category_2</th>\n",
       "      <th>Product_Category_3</th>\n",
       "      <th>Purchase</th>\n",
       "    </tr>\n",
       "  </thead>\n",
       "  <tbody>\n",
       "    <tr>\n",
       "      <th>0</th>\n",
       "      <td>1000001</td>\n",
       "      <td>P00069042</td>\n",
       "      <td>F</td>\n",
       "      <td>0-17</td>\n",
       "      <td>10</td>\n",
       "      <td>A</td>\n",
       "      <td>2</td>\n",
       "      <td>0</td>\n",
       "      <td>3</td>\n",
       "      <td>NaN</td>\n",
       "      <td>NaN</td>\n",
       "      <td>8370</td>\n",
       "    </tr>\n",
       "    <tr>\n",
       "      <th>1</th>\n",
       "      <td>1000001</td>\n",
       "      <td>P00248942</td>\n",
       "      <td>F</td>\n",
       "      <td>0-17</td>\n",
       "      <td>10</td>\n",
       "      <td>A</td>\n",
       "      <td>2</td>\n",
       "      <td>0</td>\n",
       "      <td>1</td>\n",
       "      <td>6.0</td>\n",
       "      <td>14.0</td>\n",
       "      <td>15200</td>\n",
       "    </tr>\n",
       "    <tr>\n",
       "      <th>2</th>\n",
       "      <td>1000001</td>\n",
       "      <td>P00087842</td>\n",
       "      <td>F</td>\n",
       "      <td>0-17</td>\n",
       "      <td>10</td>\n",
       "      <td>A</td>\n",
       "      <td>2</td>\n",
       "      <td>0</td>\n",
       "      <td>12</td>\n",
       "      <td>NaN</td>\n",
       "      <td>NaN</td>\n",
       "      <td>1422</td>\n",
       "    </tr>\n",
       "    <tr>\n",
       "      <th>3</th>\n",
       "      <td>1000001</td>\n",
       "      <td>P00085442</td>\n",
       "      <td>F</td>\n",
       "      <td>0-17</td>\n",
       "      <td>10</td>\n",
       "      <td>A</td>\n",
       "      <td>2</td>\n",
       "      <td>0</td>\n",
       "      <td>12</td>\n",
       "      <td>14.0</td>\n",
       "      <td>NaN</td>\n",
       "      <td>1057</td>\n",
       "    </tr>\n",
       "    <tr>\n",
       "      <th>4</th>\n",
       "      <td>1000002</td>\n",
       "      <td>P00285442</td>\n",
       "      <td>M</td>\n",
       "      <td>55+</td>\n",
       "      <td>16</td>\n",
       "      <td>C</td>\n",
       "      <td>4+</td>\n",
       "      <td>0</td>\n",
       "      <td>8</td>\n",
       "      <td>NaN</td>\n",
       "      <td>NaN</td>\n",
       "      <td>7969</td>\n",
       "    </tr>\n",
       "  </tbody>\n",
       "</table>\n",
       "</div>"
      ],
      "text/plain": [
       "   User_ID Product_ID Gender   Age  Occupation City_Category  \\\n",
       "0  1000001  P00069042      F  0-17          10             A   \n",
       "1  1000001  P00248942      F  0-17          10             A   \n",
       "2  1000001  P00087842      F  0-17          10             A   \n",
       "3  1000001  P00085442      F  0-17          10             A   \n",
       "4  1000002  P00285442      M   55+          16             C   \n",
       "\n",
       "  Stay_In_Current_City_Years  Marital_Status  Product_Category_1  \\\n",
       "0                          2               0                   3   \n",
       "1                          2               0                   1   \n",
       "2                          2               0                  12   \n",
       "3                          2               0                  12   \n",
       "4                         4+               0                   8   \n",
       "\n",
       "   Product_Category_2  Product_Category_3  Purchase  \n",
       "0                 NaN                 NaN      8370  \n",
       "1                 6.0                14.0     15200  \n",
       "2                 NaN                 NaN      1422  \n",
       "3                14.0                 NaN      1057  \n",
       "4                 NaN                 NaN      7969  "
      ]
     },
     "execution_count": 104,
     "metadata": {},
     "output_type": "execute_result"
    }
   ],
   "source": [
    "data = pd.read_csv('blackFriday_train.csv')\n",
    "print('No. of Rows :',data.shape[0])\n",
    "print('No. of Columns :', data.shape[1])\n",
    "data.head()"
   ]
  },
  {
   "cell_type": "code",
   "execution_count": 105,
   "id": "c7aa58ff",
   "metadata": {},
   "outputs": [
    {
     "data": {
      "image/png": "[encoded data removed]",
      "text/plain": [
       "<Figure size 432x288 with 1 Axes>"
      ]
     },
     "metadata": {},
     "output_type": "display_data"
    }
   ],
   "source": [
    "# Let us sort columns by their datatype:\n",
    "data.dtypes.value_counts().plot.pie(explode=[0.1,0.1,0.1],autopct='%1.2f%%',shadow=True)\n",
    "plt.title('type of our data');"
   ]
  },
  {
   "cell_type": "markdown",
   "id": "e45efac4",
   "metadata": {},
   "source": [
    "##### <u>Dataset Information :<u>\n",
    "- Dataset consist of two CSV files, one for training model & other for testing dataset.\n",
    "- Training dataset contain **550068 Rows** & **12 Columns**.\n",
    "- There can be some **missing values** that are present in the dataset. With which we'll have to deal.\n",
    "- We can **drop 'User_ID','Product_ID'**, because we want to be able to predict the buying behavior of any customer, not just those who are already recorded in the dataset."
   ]
  },
  {
   "cell_type": "code",
   "execution_count": null,
   "id": "5308c093",
   "metadata": {},
   "outputs": [],
   "source": [
    "# Dropping User_ID & Product_ID:\n",
    "#cols = ['User_ID','Product_ID']\n",
    "#data.drop(cols, inplace = True, axis =1)"
   ]
  },
  {
   "cell_type": "markdown",
   "id": "5ce05ab4",
   "metadata": {},
   "source": [
    "### <u>Feature Description of Dataset  :<u>\n",
    "---\n",
    "- User_ID: Unique ID of the user. There are a total of 5891 users in the dataset.\n",
    "- Product_ID: Unique ID of the product. There are a total of 3623 products in the dataset.\n",
    "- Gender: indicates the gender of the person making the transaction.\n",
    "- Age: indicates the age group of the person making the transaction.\n",
    "- Occupation: shows the occupation of the user, already labeled with numbers 0 to 20.\n",
    "- City_Category: User's living city category. Cities are categorized into 3 different categories 'A', 'B' and 'C'.\n",
    "- Stay_In_Current_City_Years: Indicates how long the users has lived in this city.\n",
    "- Marital_Status: is 0 if the user is not married and 1 otherwise.\n",
    "- Product_Category_1 to _3: Category of the product.\n",
    "- Purchase: Purchase amount.\n",
    " ***"
   ]
  },
  {
   "cell_type": "markdown",
   "id": "f44a588e",
   "metadata": {},
   "source": [
    "### Data profiling:"
   ]
  },
  {
   "cell_type": "code",
   "execution_count": 106,
   "id": "adaf2679",
   "metadata": {},
   "outputs": [
    {
     "name": "stdout",
     "output_type": "stream",
     "text": [
      "<class 'pandas.core.frame.DataFrame'>\n",
      "RangeIndex: 550068 entries, 0 to 550067\n",
      "Data columns (total 12 columns):\n",
      " #   Column                      Non-Null Count   Dtype  \n",
      "---  ------                      --------------   -----  \n",
      " 0   User_ID                     550068 non-null  int64  \n",
      " 1   Product_ID                  550068 non-null  object \n",
      " 2   Gender                      550068 non-null  object \n",
      " 3   Age                         550068 non-null  object \n",
      " 4   Occupation                  550068 non-null  int64  \n",
      " 5   City_Category               550068 non-null  object \n",
      " 6   Stay_In_Current_City_Years  550068 non-null  object \n",
      " 7   Marital_Status              550068 non-null  int64  \n",
      " 8   Product_Category_1          550068 non-null  int64  \n",
      " 9   Product_Category_2          376430 non-null  float64\n",
      " 10  Product_Category_3          166821 non-null  float64\n",
      " 11  Purchase                    550068 non-null  int64  \n",
      "dtypes: float64(2), int64(5), object(5)\n",
      "memory usage: 50.4+ MB\n"
     ]
    }
   ],
   "source": [
    "# Print information about a DataFrame:\n",
    "data.info()"
   ]
  },
  {
   "cell_type": "code",
   "execution_count": 107,
   "id": "e9abedb9",
   "metadata": {},
   "outputs": [
    {
     "name": "stdout",
     "output_type": "stream",
     "text": [
      "                            No. of NaN's  % NaN data\n",
      "Product_Category_3                383247   69.672659\n",
      "Product_Category_2                173638   31.566643\n",
      "Occupation                             0    0.000000\n",
      "Marital_Status                         0    0.000000\n",
      "Product_Category_1                     0    0.000000\n",
      "Purchase                               0    0.000000\n",
      "Gender                                 0    0.000000\n",
      "Age                                    0    0.000000\n",
      "City_Category                          0    0.000000\n",
      "Stay_In_Current_City_Years             0    0.000000\n"
     ]
    }
   ],
   "source": [
    "# getting NaN Columns data:\n",
    "null_feat = data[['Occupation', 'Marital_Status', 'Product_Category_1', 'Purchase' , \n",
    "                'Product_Category_2', 'Product_Category_3', 'Gender', 'Age', \n",
    "                'City_Category', 'Stay_In_Current_City_Years']]\n",
    "miss_val = null_feat.isnull().sum().sort_values(ascending = False)\n",
    "percent_miss_val =(miss_val/len(null_feat))*100\n",
    "print(pd.concat([miss_val, percent_miss_val], axis =1, keys =[\"No. of NaN's\", \"% NaN data\"]))"
   ]
  },
  {
   "cell_type": "code",
   "execution_count": 108,
   "id": "34a1f561",
   "metadata": {},
   "outputs": [
    {
     "data": {
      "image/png": "[encoded data removed]",
      "text/plain": [
       "<Figure size 432x288 with 1 Axes>"
      ]
     },
     "metadata": {},
     "output_type": "display_data"
    }
   ],
   "source": [
    "missing_values = data.isnull().sum()\n",
    "missing_values = missing_values[missing_values > 0]\n",
    "missing_values.sort_values(inplace=True)\n",
    "missing_values.plot.pie(explode=[0.1,0.1],autopct='%1.1f%%',shadow=True)\n",
    "plt.title('our missing values');"
   ]
  },
  {
   "cell_type": "code",
   "execution_count": 109,
   "id": "ccaa71dc",
   "metadata": {},
   "outputs": [
    {
     "data": {
      "text/html": [
       "<div>\n",
       "<style scoped>\n",
       "    .dataframe tbody tr th:only-of-type {\n",
       "        vertical-align: middle;\n",
       "    }\n",
       "\n",
       "    .dataframe tbody tr th {\n",
       "        vertical-align: top;\n",
       "    }\n",
       "\n",
       "    .dataframe thead th {\n",
       "        text-align: right;\n",
       "    }\n",
       "</style>\n",
       "<table border=\"1\" class=\"dataframe\">\n",
       "  <thead>\n",
       "    <tr style=\"text-align: right;\">\n",
       "      <th></th>\n",
       "      <th>missing_values</th>\n",
       "      <th>percent_missing</th>\n",
       "    </tr>\n",
       "  </thead>\n",
       "  <tbody>\n",
       "    <tr>\n",
       "      <th>User_ID</th>\n",
       "      <td>0</td>\n",
       "      <td>0.000000</td>\n",
       "    </tr>\n",
       "    <tr>\n",
       "      <th>Product_ID</th>\n",
       "      <td>0</td>\n",
       "      <td>0.000000</td>\n",
       "    </tr>\n",
       "    <tr>\n",
       "      <th>Gender</th>\n",
       "      <td>0</td>\n",
       "      <td>0.000000</td>\n",
       "    </tr>\n",
       "    <tr>\n",
       "      <th>Age</th>\n",
       "      <td>0</td>\n",
       "      <td>0.000000</td>\n",
       "    </tr>\n",
       "    <tr>\n",
       "      <th>Occupation</th>\n",
       "      <td>0</td>\n",
       "      <td>0.000000</td>\n",
       "    </tr>\n",
       "    <tr>\n",
       "      <th>City_Category</th>\n",
       "      <td>0</td>\n",
       "      <td>0.000000</td>\n",
       "    </tr>\n",
       "    <tr>\n",
       "      <th>Stay_In_Current_City_Years</th>\n",
       "      <td>0</td>\n",
       "      <td>0.000000</td>\n",
       "    </tr>\n",
       "    <tr>\n",
       "      <th>Marital_Status</th>\n",
       "      <td>0</td>\n",
       "      <td>0.000000</td>\n",
       "    </tr>\n",
       "    <tr>\n",
       "      <th>Product_Category_1</th>\n",
       "      <td>0</td>\n",
       "      <td>0.000000</td>\n",
       "    </tr>\n",
       "    <tr>\n",
       "      <th>Product_Category_2</th>\n",
       "      <td>173638</td>\n",
       "      <td>31.566643</td>\n",
       "    </tr>\n",
       "    <tr>\n",
       "      <th>Product_Category_3</th>\n",
       "      <td>383247</td>\n",
       "      <td>69.672659</td>\n",
       "    </tr>\n",
       "    <tr>\n",
       "      <th>Purchase</th>\n",
       "      <td>0</td>\n",
       "      <td>0.000000</td>\n",
       "    </tr>\n",
       "  </tbody>\n",
       "</table>\n",
       "</div>"
      ],
      "text/plain": [
       "                            missing_values  percent_missing\n",
       "User_ID                                  0         0.000000\n",
       "Product_ID                               0         0.000000\n",
       "Gender                                   0         0.000000\n",
       "Age                                      0         0.000000\n",
       "Occupation                               0         0.000000\n",
       "City_Category                            0         0.000000\n",
       "Stay_In_Current_City_Years               0         0.000000\n",
       "Marital_Status                           0         0.000000\n",
       "Product_Category_1                       0         0.000000\n",
       "Product_Category_2                  173638        31.566643\n",
       "Product_Category_3                  383247        69.672659\n",
       "Purchase                                 0         0.000000"
      ]
     },
     "execution_count": 109,
     "metadata": {},
     "output_type": "execute_result"
    }
   ],
   "source": [
    "missing_values = data.isnull().sum()\n",
    "percent_missing = data.isnull().sum()/data.shape[0]*100\n",
    "\n",
    "value = {\n",
    "    'missing_values':missing_values,\n",
    "    'percent_missing':percent_missing\n",
    "}\n",
    "frame=pd.DataFrame(value)\n",
    "frame"
   ]
  },
  {
   "cell_type": "code",
   "execution_count": 110,
   "id": "90407543",
   "metadata": {},
   "outputs": [
    {
     "data": {
      "text/plain": [
       "{int64: ['User_ID', 'Occupation', 'Marital_Status', 'Product_Category_1', 'Purchase'], float64: ['Product_Category_2', 'Product_Category_3'], object: ['Product_ID', 'Gender', 'Age', 'City_Category', 'Stay_In_Current_City_Years']}"
      ]
     },
     "execution_count": 110,
     "metadata": {},
     "output_type": "execute_result"
    }
   ],
   "source": [
    "# let's sort columns by their datatype:\n",
    "data.columns.to_series().groupby(data.dtypes).groups"
   ]
  },
  {
   "cell_type": "code",
   "execution_count": 111,
   "id": "b658c807",
   "metadata": {},
   "outputs": [
    {
     "data": {
      "text/html": [
       "<div>\n",
       "<style scoped>\n",
       "    .dataframe tbody tr th:only-of-type {\n",
       "        vertical-align: middle;\n",
       "    }\n",
       "\n",
       "    .dataframe tbody tr th {\n",
       "        vertical-align: top;\n",
       "    }\n",
       "\n",
       "    .dataframe thead th {\n",
       "        text-align: right;\n",
       "    }\n",
       "</style>\n",
       "<table border=\"1\" class=\"dataframe\">\n",
       "  <thead>\n",
       "    <tr style=\"text-align: right;\">\n",
       "      <th></th>\n",
       "      <th>User_ID</th>\n",
       "      <th>Product_ID</th>\n",
       "      <th>Gender</th>\n",
       "      <th>Age</th>\n",
       "      <th>Occupation</th>\n",
       "      <th>City_Category</th>\n",
       "      <th>Stay_In_Current_City_Years</th>\n",
       "      <th>Marital_Status</th>\n",
       "      <th>Product_Category_1</th>\n",
       "      <th>Product_Category_2</th>\n",
       "      <th>Product_Category_3</th>\n",
       "      <th>Purchase</th>\n",
       "    </tr>\n",
       "  </thead>\n",
       "  <tbody>\n",
       "    <tr>\n",
       "      <th>count</th>\n",
       "      <td>5.500680e+05</td>\n",
       "      <td>550068</td>\n",
       "      <td>550068</td>\n",
       "      <td>550068</td>\n",
       "      <td>550068.000000</td>\n",
       "      <td>550068</td>\n",
       "      <td>550068</td>\n",
       "      <td>550068.000000</td>\n",
       "      <td>550068.000000</td>\n",
       "      <td>376430.000000</td>\n",
       "      <td>166821.000000</td>\n",
       "      <td>550068.000000</td>\n",
       "    </tr>\n",
       "    <tr>\n",
       "      <th>unique</th>\n",
       "      <td>NaN</td>\n",
       "      <td>3631</td>\n",
       "      <td>2</td>\n",
       "      <td>7</td>\n",
       "      <td>NaN</td>\n",
       "      <td>3</td>\n",
       "      <td>5</td>\n",
       "      <td>NaN</td>\n",
       "      <td>NaN</td>\n",
       "      <td>NaN</td>\n",
       "      <td>NaN</td>\n",
       "      <td>NaN</td>\n",
       "    </tr>\n",
       "    <tr>\n",
       "      <th>top</th>\n",
       "      <td>NaN</td>\n",
       "      <td>P00265242</td>\n",
       "      <td>M</td>\n",
       "      <td>26-35</td>\n",
       "      <td>NaN</td>\n",
       "      <td>B</td>\n",
       "      <td>1</td>\n",
       "      <td>NaN</td>\n",
       "      <td>NaN</td>\n",
       "      <td>NaN</td>\n",
       "      <td>NaN</td>\n",
       "      <td>NaN</td>\n",
       "    </tr>\n",
       "    <tr>\n",
       "      <th>freq</th>\n",
       "      <td>NaN</td>\n",
       "      <td>1880</td>\n",
       "      <td>414259</td>\n",
       "      <td>219587</td>\n",
       "      <td>NaN</td>\n",
       "      <td>231173</td>\n",
       "      <td>193821</td>\n",
       "      <td>NaN</td>\n",
       "      <td>NaN</td>\n",
       "      <td>NaN</td>\n",
       "      <td>NaN</td>\n",
       "      <td>NaN</td>\n",
       "    </tr>\n",
       "    <tr>\n",
       "      <th>mean</th>\n",
       "      <td>1.003029e+06</td>\n",
       "      <td>NaN</td>\n",
       "      <td>NaN</td>\n",
       "      <td>NaN</td>\n",
       "      <td>8.076707</td>\n",
       "      <td>NaN</td>\n",
       "      <td>NaN</td>\n",
       "      <td>0.409653</td>\n",
       "      <td>5.404270</td>\n",
       "      <td>9.842329</td>\n",
       "      <td>12.668243</td>\n",
       "      <td>9263.968713</td>\n",
       "    </tr>\n",
       "    <tr>\n",
       "      <th>std</th>\n",
       "      <td>1.727592e+03</td>\n",
       "      <td>NaN</td>\n",
       "      <td>NaN</td>\n",
       "      <td>NaN</td>\n",
       "      <td>6.522660</td>\n",
       "      <td>NaN</td>\n",
       "      <td>NaN</td>\n",
       "      <td>0.491770</td>\n",
       "      <td>3.936211</td>\n",
       "      <td>5.086590</td>\n",
       "      <td>4.125338</td>\n",
       "      <td>5023.065394</td>\n",
       "    </tr>\n",
       "    <tr>\n",
       "      <th>min</th>\n",
       "      <td>1.000001e+06</td>\n",
       "      <td>NaN</td>\n",
       "      <td>NaN</td>\n",
       "      <td>NaN</td>\n",
       "      <td>0.000000</td>\n",
       "      <td>NaN</td>\n",
       "      <td>NaN</td>\n",
       "      <td>0.000000</td>\n",
       "      <td>1.000000</td>\n",
       "      <td>2.000000</td>\n",
       "      <td>3.000000</td>\n",
       "      <td>12.000000</td>\n",
       "    </tr>\n",
       "    <tr>\n",
       "      <th>25%</th>\n",
       "      <td>1.001516e+06</td>\n",
       "      <td>NaN</td>\n",
       "      <td>NaN</td>\n",
       "      <td>NaN</td>\n",
       "      <td>2.000000</td>\n",
       "      <td>NaN</td>\n",
       "      <td>NaN</td>\n",
       "      <td>0.000000</td>\n",
       "      <td>1.000000</td>\n",
       "      <td>5.000000</td>\n",
       "      <td>9.000000</td>\n",
       "      <td>5823.000000</td>\n",
       "    </tr>\n",
       "    <tr>\n",
       "      <th>50%</th>\n",
       "      <td>1.003077e+06</td>\n",
       "      <td>NaN</td>\n",
       "      <td>NaN</td>\n",
       "      <td>NaN</td>\n",
       "      <td>7.000000</td>\n",
       "      <td>NaN</td>\n",
       "      <td>NaN</td>\n",
       "      <td>0.000000</td>\n",
       "      <td>5.000000</td>\n",
       "      <td>9.000000</td>\n",
       "      <td>14.000000</td>\n",
       "      <td>8047.000000</td>\n",
       "    </tr>\n",
       "    <tr>\n",
       "      <th>75%</th>\n",
       "      <td>1.004478e+06</td>\n",
       "      <td>NaN</td>\n",
       "      <td>NaN</td>\n",
       "      <td>NaN</td>\n",
       "      <td>14.000000</td>\n",
       "      <td>NaN</td>\n",
       "      <td>NaN</td>\n",
       "      <td>1.000000</td>\n",
       "      <td>8.000000</td>\n",
       "      <td>15.000000</td>\n",
       "      <td>16.000000</td>\n",
       "      <td>12054.000000</td>\n",
       "    </tr>\n",
       "    <tr>\n",
       "      <th>max</th>\n",
       "      <td>1.006040e+06</td>\n",
       "      <td>NaN</td>\n",
       "      <td>NaN</td>\n",
       "      <td>NaN</td>\n",
       "      <td>20.000000</td>\n",
       "      <td>NaN</td>\n",
       "      <td>NaN</td>\n",
       "      <td>1.000000</td>\n",
       "      <td>20.000000</td>\n",
       "      <td>18.000000</td>\n",
       "      <td>18.000000</td>\n",
       "      <td>23961.000000</td>\n",
       "    </tr>\n",
       "  </tbody>\n",
       "</table>\n",
       "</div>"
      ],
      "text/plain": [
       "             User_ID Product_ID  Gender     Age     Occupation City_Category  \\\n",
       "count   5.500680e+05     550068  550068  550068  550068.000000        550068   \n",
       "unique           NaN       3631       2       7            NaN             3   \n",
       "top              NaN  P00265242       M   26-35            NaN             B   \n",
       "freq             NaN       1880  414259  219587            NaN        231173   \n",
       "mean    1.003029e+06        NaN     NaN     NaN       8.076707           NaN   \n",
       "std     1.727592e+03        NaN     NaN     NaN       6.522660           NaN   \n",
       "min     1.000001e+06        NaN     NaN     NaN       0.000000           NaN   \n",
       "25%     1.001516e+06        NaN     NaN     NaN       2.000000           NaN   \n",
       "50%     1.003077e+06        NaN     NaN     NaN       7.000000           NaN   \n",
       "75%     1.004478e+06        NaN     NaN     NaN      14.000000           NaN   \n",
       "max     1.006040e+06        NaN     NaN     NaN      20.000000           NaN   \n",
       "\n",
       "       Stay_In_Current_City_Years  Marital_Status  Product_Category_1  \\\n",
       "count                      550068   550068.000000       550068.000000   \n",
       "unique                          5             NaN                 NaN   \n",
       "top                             1             NaN                 NaN   \n",
       "freq                       193821             NaN                 NaN   \n",
       "mean                          NaN        0.409653            5.404270   \n",
       "std                           NaN        0.491770            3.936211   \n",
       "min                           NaN        0.000000            1.000000   \n",
       "25%                           NaN        0.000000            1.000000   \n",
       "50%                           NaN        0.000000            5.000000   \n",
       "75%                           NaN        1.000000            8.000000   \n",
       "max                           NaN        1.000000           20.000000   \n",
       "\n",
       "        Product_Category_2  Product_Category_3       Purchase  \n",
       "count        376430.000000       166821.000000  550068.000000  \n",
       "unique                 NaN                 NaN            NaN  \n",
       "top                    NaN                 NaN            NaN  \n",
       "freq                   NaN                 NaN            NaN  \n",
       "mean              9.842329           12.668243    9263.968713  \n",
       "std               5.086590            4.125338    5023.065394  \n",
       "min               2.000000            3.000000      12.000000  \n",
       "25%               5.000000            9.000000    5823.000000  \n",
       "50%               9.000000           14.000000    8047.000000  \n",
       "75%              15.000000           16.000000   12054.000000  \n",
       "max              18.000000           18.000000   23961.000000  "
      ]
     },
     "execution_count": 111,
     "metadata": {},
     "output_type": "execute_result"
    }
   ],
   "source": [
    "data.describe(include='all')"
   ]
  },
  {
   "cell_type": "code",
   "execution_count": 112,
   "id": "37a26daa",
   "metadata": {},
   "outputs": [
    {
     "data": {
      "text/html": [
       "<div>\n",
       "<style scoped>\n",
       "    .dataframe tbody tr th:only-of-type {\n",
       "        vertical-align: middle;\n",
       "    }\n",
       "\n",
       "    .dataframe tbody tr th {\n",
       "        vertical-align: top;\n",
       "    }\n",
       "\n",
       "    .dataframe thead th {\n",
       "        text-align: right;\n",
       "    }\n",
       "</style>\n",
       "<table border=\"1\" class=\"dataframe\">\n",
       "  <thead>\n",
       "    <tr style=\"text-align: right;\">\n",
       "      <th></th>\n",
       "      <th>User_ID</th>\n",
       "      <th>Occupation</th>\n",
       "      <th>Marital_Status</th>\n",
       "      <th>Product_Category_1</th>\n",
       "      <th>Product_Category_2</th>\n",
       "      <th>Product_Category_3</th>\n",
       "      <th>Purchase</th>\n",
       "    </tr>\n",
       "  </thead>\n",
       "  <tbody>\n",
       "    <tr>\n",
       "      <th>count</th>\n",
       "      <td>5.500680e+05</td>\n",
       "      <td>550068.000000</td>\n",
       "      <td>550068.000000</td>\n",
       "      <td>550068.000000</td>\n",
       "      <td>376430.000000</td>\n",
       "      <td>166821.000000</td>\n",
       "      <td>550068.000000</td>\n",
       "    </tr>\n",
       "    <tr>\n",
       "      <th>mean</th>\n",
       "      <td>1.003029e+06</td>\n",
       "      <td>8.076707</td>\n",
       "      <td>0.409653</td>\n",
       "      <td>5.404270</td>\n",
       "      <td>9.842329</td>\n",
       "      <td>12.668243</td>\n",
       "      <td>9263.968713</td>\n",
       "    </tr>\n",
       "    <tr>\n",
       "      <th>std</th>\n",
       "      <td>1.727592e+03</td>\n",
       "      <td>6.522660</td>\n",
       "      <td>0.491770</td>\n",
       "      <td>3.936211</td>\n",
       "      <td>5.086590</td>\n",
       "      <td>4.125338</td>\n",
       "      <td>5023.065394</td>\n",
       "    </tr>\n",
       "    <tr>\n",
       "      <th>min</th>\n",
       "      <td>1.000001e+06</td>\n",
       "      <td>0.000000</td>\n",
       "      <td>0.000000</td>\n",
       "      <td>1.000000</td>\n",
       "      <td>2.000000</td>\n",
       "      <td>3.000000</td>\n",
       "      <td>12.000000</td>\n",
       "    </tr>\n",
       "    <tr>\n",
       "      <th>25%</th>\n",
       "      <td>1.001516e+06</td>\n",
       "      <td>2.000000</td>\n",
       "      <td>0.000000</td>\n",
       "      <td>1.000000</td>\n",
       "      <td>5.000000</td>\n",
       "      <td>9.000000</td>\n",
       "      <td>5823.000000</td>\n",
       "    </tr>\n",
       "    <tr>\n",
       "      <th>50%</th>\n",
       "      <td>1.003077e+06</td>\n",
       "      <td>7.000000</td>\n",
       "      <td>0.000000</td>\n",
       "      <td>5.000000</td>\n",
       "      <td>9.000000</td>\n",
       "      <td>14.000000</td>\n",
       "      <td>8047.000000</td>\n",
       "    </tr>\n",
       "    <tr>\n",
       "      <th>75%</th>\n",
       "      <td>1.004478e+06</td>\n",
       "      <td>14.000000</td>\n",
       "      <td>1.000000</td>\n",
       "      <td>8.000000</td>\n",
       "      <td>15.000000</td>\n",
       "      <td>16.000000</td>\n",
       "      <td>12054.000000</td>\n",
       "    </tr>\n",
       "    <tr>\n",
       "      <th>max</th>\n",
       "      <td>1.006040e+06</td>\n",
       "      <td>20.000000</td>\n",
       "      <td>1.000000</td>\n",
       "      <td>20.000000</td>\n",
       "      <td>18.000000</td>\n",
       "      <td>18.000000</td>\n",
       "      <td>23961.000000</td>\n",
       "    </tr>\n",
       "  </tbody>\n",
       "</table>\n",
       "</div>"
      ],
      "text/plain": [
       "            User_ID     Occupation  Marital_Status  Product_Category_1  \\\n",
       "count  5.500680e+05  550068.000000   550068.000000       550068.000000   \n",
       "mean   1.003029e+06       8.076707        0.409653            5.404270   \n",
       "std    1.727592e+03       6.522660        0.491770            3.936211   \n",
       "min    1.000001e+06       0.000000        0.000000            1.000000   \n",
       "25%    1.001516e+06       2.000000        0.000000            1.000000   \n",
       "50%    1.003077e+06       7.000000        0.000000            5.000000   \n",
       "75%    1.004478e+06      14.000000        1.000000            8.000000   \n",
       "max    1.006040e+06      20.000000        1.000000           20.000000   \n",
       "\n",
       "       Product_Category_2  Product_Category_3       Purchase  \n",
       "count       376430.000000       166821.000000  550068.000000  \n",
       "mean             9.842329           12.668243    9263.968713  \n",
       "std              5.086590            4.125338    5023.065394  \n",
       "min              2.000000            3.000000      12.000000  \n",
       "25%              5.000000            9.000000    5823.000000  \n",
       "50%              9.000000           14.000000    8047.000000  \n",
       "75%             15.000000           16.000000   12054.000000  \n",
       "max             18.000000           18.000000   23961.000000  "
      ]
     },
     "execution_count": 112,
     "metadata": {},
     "output_type": "execute_result"
    }
   ],
   "source": [
    "# description of each of the attributes of the dataset.\n",
    "data.describe()"
   ]
  },
  {
   "cell_type": "markdown",
   "id": "c865746e",
   "metadata": {},
   "source": [
    "###### Observations:\n",
    "\n",
    "- Dataset contains both **Object & Numerical data types**.\n",
    "- Dataset contains **numerical as well as categorical variables**. \n",
    "- It would make sense to look at the summary statistics of the purchase variable. We see that the average purchase amount is 9263.97. The remainder of the variables don't make much sense to check summary statistics, as they are categories. Nevertheless, we have included them but won't examine them for insight. \n",
    "- The dataset contains **many null values** in Product_Category_3 & Product_Category_2 coumns.\n",
    "- ***It makes sense for there to be missing values because some customers might only buy one category of product and not buy from the other 2 product categories. We should fill the missing value with a 0 to show this.*** "
   ]
  },
  {
   "cell_type": "code",
   "execution_count": 113,
   "id": "e63f966d",
   "metadata": {},
   "outputs": [],
   "source": [
    "# Missing Values Imputation:\n",
    "# Most features are categorical. We will fill the NaNs with 0's for Product Category_2 and 3\n",
    "\n",
    "data[\"Product_Category_2\"] = data[\"Product_Category_2\"].fillna(0)\n",
    "data[\"Product_Category_3\"] = data[\"Product_Category_3\"].fillna(0)"
   ]
  },
  {
   "cell_type": "markdown",
   "id": "d9c023a3",
   "metadata": {},
   "source": [
    "### Data Integrity Check\n",
    "\n",
    "- Dataset may contain whitespaces, missing value etc. let's investigate the integrity of data before proceeding for further analysis."
   ]
  },
  {
   "cell_type": "code",
   "execution_count": 114,
   "id": "d6d30e6b",
   "metadata": {},
   "outputs": [
    {
     "data": {
      "text/plain": [
       "False"
      ]
     },
     "execution_count": 114,
     "metadata": {},
     "output_type": "execute_result"
    }
   ],
   "source": [
    "# Checking for the presense of whitespaces, '-', 'null', 'NA':\n",
    "data.isin(['-999',' ','?','-',' ?','null','NA','N/A','nan','Nan','NAN','NaN']).sum().any()"
   ]
  },
  {
   "cell_type": "code",
   "execution_count": 115,
   "id": "bddb7c38",
   "metadata": {},
   "outputs": [
    {
     "data": {
      "text/plain": [
       "False"
      ]
     },
     "execution_count": 115,
     "metadata": {},
     "output_type": "execute_result"
    }
   ],
   "source": [
    "data.isnull().sum().any()"
   ]
  },
  {
   "cell_type": "code",
   "execution_count": 116,
   "id": "87e38460",
   "metadata": {},
   "outputs": [
    {
     "data": {
      "text/plain": [
       "0"
      ]
     },
     "execution_count": 116,
     "metadata": {},
     "output_type": "execute_result"
    }
   ],
   "source": [
    "data.duplicated().sum() # Checking for duplicacy."
   ]
  },
  {
   "cell_type": "code",
   "execution_count": 117,
   "id": "406883aa",
   "metadata": {},
   "outputs": [],
   "source": [
    "# Droping duplicate entries\n",
    "#data.drop_duplicates(keep='last', inplace =True)\n",
    "#data.shape"
   ]
  },
  {
   "cell_type": "code",
   "execution_count": null,
   "id": "75f2f038",
   "metadata": {},
   "outputs": [],
   "source": []
  },
  {
   "cell_type": "markdown",
   "id": "465763b9",
   "metadata": {},
   "source": [
    "> # Exploratory Data Analysis (EDA)"
   ]
  },
  {
   "cell_type": "code",
   "execution_count": 118,
   "id": "642fa5cd",
   "metadata": {},
   "outputs": [
    {
     "data": {
      "text/html": [
       "<div>\n",
       "<style scoped>\n",
       "    .dataframe tbody tr th:only-of-type {\n",
       "        vertical-align: middle;\n",
       "    }\n",
       "\n",
       "    .dataframe tbody tr th {\n",
       "        vertical-align: top;\n",
       "    }\n",
       "\n",
       "    .dataframe thead th {\n",
       "        text-align: right;\n",
       "    }\n",
       "</style>\n",
       "<table border=\"1\" class=\"dataframe\">\n",
       "  <thead>\n",
       "    <tr style=\"text-align: right;\">\n",
       "      <th></th>\n",
       "      <th>User_ID</th>\n",
       "      <th>Product_ID</th>\n",
       "      <th>Gender</th>\n",
       "      <th>Age</th>\n",
       "      <th>Occupation</th>\n",
       "      <th>City_Category</th>\n",
       "      <th>Stay_In_Current_City_Years</th>\n",
       "      <th>Marital_Status</th>\n",
       "      <th>Product_Category_1</th>\n",
       "      <th>Product_Category_2</th>\n",
       "      <th>Product_Category_3</th>\n",
       "      <th>Purchase</th>\n",
       "    </tr>\n",
       "  </thead>\n",
       "  <tbody>\n",
       "    <tr>\n",
       "      <th>0</th>\n",
       "      <td>1000001</td>\n",
       "      <td>P00069042</td>\n",
       "      <td>F</td>\n",
       "      <td>0-17</td>\n",
       "      <td>10</td>\n",
       "      <td>A</td>\n",
       "      <td>2</td>\n",
       "      <td>0</td>\n",
       "      <td>3</td>\n",
       "      <td>0.0</td>\n",
       "      <td>0.0</td>\n",
       "      <td>8370</td>\n",
       "    </tr>\n",
       "    <tr>\n",
       "      <th>1</th>\n",
       "      <td>1000001</td>\n",
       "      <td>P00248942</td>\n",
       "      <td>F</td>\n",
       "      <td>0-17</td>\n",
       "      <td>10</td>\n",
       "      <td>A</td>\n",
       "      <td>2</td>\n",
       "      <td>0</td>\n",
       "      <td>1</td>\n",
       "      <td>6.0</td>\n",
       "      <td>14.0</td>\n",
       "      <td>15200</td>\n",
       "    </tr>\n",
       "    <tr>\n",
       "      <th>2</th>\n",
       "      <td>1000001</td>\n",
       "      <td>P00087842</td>\n",
       "      <td>F</td>\n",
       "      <td>0-17</td>\n",
       "      <td>10</td>\n",
       "      <td>A</td>\n",
       "      <td>2</td>\n",
       "      <td>0</td>\n",
       "      <td>12</td>\n",
       "      <td>0.0</td>\n",
       "      <td>0.0</td>\n",
       "      <td>1422</td>\n",
       "    </tr>\n",
       "    <tr>\n",
       "      <th>3</th>\n",
       "      <td>1000001</td>\n",
       "      <td>P00085442</td>\n",
       "      <td>F</td>\n",
       "      <td>0-17</td>\n",
       "      <td>10</td>\n",
       "      <td>A</td>\n",
       "      <td>2</td>\n",
       "      <td>0</td>\n",
       "      <td>12</td>\n",
       "      <td>14.0</td>\n",
       "      <td>0.0</td>\n",
       "      <td>1057</td>\n",
       "    </tr>\n",
       "    <tr>\n",
       "      <th>4</th>\n",
       "      <td>1000002</td>\n",
       "      <td>P00285442</td>\n",
       "      <td>M</td>\n",
       "      <td>55+</td>\n",
       "      <td>16</td>\n",
       "      <td>C</td>\n",
       "      <td>4+</td>\n",
       "      <td>0</td>\n",
       "      <td>8</td>\n",
       "      <td>0.0</td>\n",
       "      <td>0.0</td>\n",
       "      <td>7969</td>\n",
       "    </tr>\n",
       "  </tbody>\n",
       "</table>\n",
       "</div>"
      ],
      "text/plain": [
       "   User_ID Product_ID Gender   Age  Occupation City_Category  \\\n",
       "0  1000001  P00069042      F  0-17          10             A   \n",
       "1  1000001  P00248942      F  0-17          10             A   \n",
       "2  1000001  P00087842      F  0-17          10             A   \n",
       "3  1000001  P00085442      F  0-17          10             A   \n",
       "4  1000002  P00285442      M   55+          16             C   \n",
       "\n",
       "  Stay_In_Current_City_Years  Marital_Status  Product_Category_1  \\\n",
       "0                          2               0                   3   \n",
       "1                          2               0                   1   \n",
       "2                          2               0                  12   \n",
       "3                          2               0                  12   \n",
       "4                         4+               0                   8   \n",
       "\n",
       "   Product_Category_2  Product_Category_3  Purchase  \n",
       "0                 0.0                 0.0      8370  \n",
       "1                 6.0                14.0     15200  \n",
       "2                 0.0                 0.0      1422  \n",
       "3                14.0                 0.0      1057  \n",
       "4                 0.0                 0.0      7969  "
      ]
     },
     "execution_count": 118,
     "metadata": {},
     "output_type": "execute_result"
    }
   ],
   "source": [
    "data.head()"
   ]
  },
  {
   "cell_type": "code",
   "execution_count": 119,
   "id": "59420661",
   "metadata": {},
   "outputs": [
    {
     "data": {
      "image/png": "[encoded data removed]",
      "text/plain": [
       "<Figure size 864x864 with 9 Axes>"
      ]
     },
     "metadata": {
      "needs_background": "light"
     },
     "output_type": "display_data"
    }
   ],
   "source": [
    "data.hist(edgecolor='black',figsize=(12,12));"
   ]
  },
  {
   "cell_type": "code",
   "execution_count": 120,
   "id": "3bf9f1d4",
   "metadata": {},
   "outputs": [
    {
     "data": {
      "text/plain": [
       "Text(0, 0.5, 'Count')"
      ]
     },
     "execution_count": 120,
     "metadata": {},
     "output_type": "execute_result"
    },
    {
     "data": {
      "image/png": "[encoded data removed]",
      "text/plain": [
       "<Figure size 432x288 with 1 Axes>"
      ]
     },
     "metadata": {
      "needs_background": "light"
     },
     "output_type": "display_data"
    }
   ],
   "source": [
    "plt.hist(data['Purchase'], bins = 40)\n",
    "plt.xlabel('Purchase')\n",
    "plt.ylabel('Count')"
   ]
  },
  {
   "cell_type": "markdown",
   "id": "6946e95d",
   "metadata": {},
   "source": [
    "If we predict purchase amount, this would be our y variable. It seems like it is right skewed but more or less normal. "
   ]
  },
  {
   "cell_type": "markdown",
   "id": "1b9e8f08",
   "metadata": {},
   "source": [
    "We next want to know the number of unique values in the columns to check if there are recurring customers and to see the variety in products offered. "
   ]
  },
  {
   "cell_type": "code",
   "execution_count": 121,
   "id": "58bc6cef",
   "metadata": {},
   "outputs": [
    {
     "name": "stdout",
     "output_type": "stream",
     "text": [
      "User_ID : \n",
      " 5891\n",
      "Product_ID : \n",
      " 3631\n",
      "Gender : \n",
      " 2\n",
      "Age : \n",
      " 7\n",
      "Occupation : \n",
      " 21\n",
      "City_Category : \n",
      " 3\n",
      "Stay_In_Current_City_Years : \n",
      " 5\n",
      "Marital_Status : \n",
      " 2\n",
      "Product_Category_1 : \n",
      " 20\n",
      "Product_Category_2 : \n",
      " 18\n",
      "Product_Category_3 : \n",
      " 16\n",
      "Purchase : \n",
      " 18105\n"
     ]
    }
   ],
   "source": [
    "for col in data.columns:\n",
    "    print(col, ': \\n', data[col].nunique())"
   ]
  },
  {
   "cell_type": "markdown",
   "id": "9a78ab19",
   "metadata": {},
   "source": [
    "**Some interesting findings:**\n",
    "- We notice that there are repeating customers since unique user ID is much less than the amount of observations we have\n",
    "- There are 2 less product varieties in Product Category 3 which can perhaps slightly influence insights. It could be that since there is fewer variety, consumers have less choice which could prompt customers to buy less. \n",
    "\n",
    "\n",
    "We can use these features to find interesting patterns in shopping habits"
   ]
  },
  {
   "cell_type": "markdown",
   "id": "60845040",
   "metadata": {},
   "source": [
    "**Goals:**\n",
    "- Predict purchase amount based on all features \n",
    "- Give recommendations based on age, location  "
   ]
  },
  {
   "cell_type": "code",
   "execution_count": 122,
   "id": "eb5779c9",
   "metadata": {},
   "outputs": [
    {
     "data": {
      "image/png": "[encoded data removed]",
      "text/plain": [
       "<Figure size 432x288 with 1 Axes>"
      ]
     },
     "metadata": {
      "needs_background": "light"
     },
     "output_type": "display_data"
    }
   ],
   "source": [
    "# Let's see ratio of women to men \n",
    "sns.countplot(data['Gender'])\n",
    "plt.show()"
   ]
  },
  {
   "cell_type": "markdown",
   "id": "cfad0c7f",
   "metadata": {},
   "source": [
    "We notice there are more male customers than there are female customers, including recurring customers. \n",
    "\n",
    "Let's now check to see the female to male ratio against Purchase."
   ]
  },
  {
   "cell_type": "code",
   "execution_count": 123,
   "id": "85f27ce1",
   "metadata": {},
   "outputs": [
    {
     "data": {
      "image/png": "[encoded data removed]",
      "text/plain": [
       "<Figure size 432x288 with 1 Axes>"
      ]
     },
     "metadata": {
      "needs_background": "light"
     },
     "output_type": "display_data"
    }
   ],
   "source": [
    "#gender_purchase = data[['Gender', 'Purchase']].groupby(['Gender']).mean()\n",
    "#gender_purchase.plot.bar()\n",
    "sns.barplot('Gender', 'Purchase', data = data)\n",
    "plt.show()"
   ]
  },
  {
   "cell_type": "markdown",
   "id": "1ab7c2f9",
   "metadata": {},
   "source": [
    "- Male customers tend to have purchased more than female customers. \n",
    "- There may be different reasons for this. \n",
    "- First, we saw that the ratio of males to females is more which would mean more purcahses. \n",
    "- It could also be that married couples shop together and it is the husband that tends to purchase the products for his wife. \n",
    "- Therefore, the reflection of more male purchasers doesn't necessarily reflect for whom the products are being purchased for. \n",
    "- Also, there may be more male customers because the products target males more. \n",
    "- It is interesting to see that although there are fewer female customers by count, the purchase amount is much more similar to the male's. \n",
    "- This could mean that the products the females purchase are more expensive. \n",
    "\n",
    "This leads us to investigate the case further and look into the amount of married couples who make a purchase and compare it to the single shoppers to see if there may be a difference in the habits of the gender of the purchaser. "
   ]
  },
  {
   "cell_type": "code",
   "execution_count": 124,
   "id": "3a8fa0de",
   "metadata": {},
   "outputs": [
    {
     "data": {
      "text/html": [
       "<div>\n",
       "<style scoped>\n",
       "    .dataframe tbody tr th:only-of-type {\n",
       "        vertical-align: middle;\n",
       "    }\n",
       "\n",
       "    .dataframe tbody tr th {\n",
       "        vertical-align: top;\n",
       "    }\n",
       "\n",
       "    .dataframe thead th {\n",
       "        text-align: right;\n",
       "    }\n",
       "</style>\n",
       "<table border=\"1\" class=\"dataframe\">\n",
       "  <thead>\n",
       "    <tr style=\"text-align: right;\">\n",
       "      <th></th>\n",
       "      <th>Gender</th>\n",
       "      <th>Marital_Status</th>\n",
       "      <th>Total</th>\n",
       "    </tr>\n",
       "  </thead>\n",
       "  <tbody>\n",
       "    <tr>\n",
       "      <th>0</th>\n",
       "      <td>F</td>\n",
       "      <td>0</td>\n",
       "      <td>78821</td>\n",
       "    </tr>\n",
       "    <tr>\n",
       "      <th>1</th>\n",
       "      <td>F</td>\n",
       "      <td>1</td>\n",
       "      <td>56988</td>\n",
       "    </tr>\n",
       "    <tr>\n",
       "      <th>2</th>\n",
       "      <td>M</td>\n",
       "      <td>0</td>\n",
       "      <td>245910</td>\n",
       "    </tr>\n",
       "    <tr>\n",
       "      <th>3</th>\n",
       "      <td>M</td>\n",
       "      <td>1</td>\n",
       "      <td>168349</td>\n",
       "    </tr>\n",
       "  </tbody>\n",
       "</table>\n",
       "</div>"
      ],
      "text/plain": [
       "  Gender  Marital_Status   Total\n",
       "0      F               0   78821\n",
       "1      F               1   56988\n",
       "2      M               0  245910\n",
       "3      M               1  168349"
      ]
     },
     "execution_count": 124,
     "metadata": {},
     "output_type": "execute_result"
    }
   ],
   "source": [
    "gender_marriage = data.groupby(['Gender','Marital_Status']).size().reset_index(name=\"Total\")\n",
    "gender_marriage.head()"
   ]
  },
  {
   "cell_type": "code",
   "execution_count": 125,
   "id": "fdaf5d2a",
   "metadata": {},
   "outputs": [
    {
     "data": {
      "text/plain": [
       "<AxesSubplot:xlabel='Gender'>"
      ]
     },
     "execution_count": 125,
     "metadata": {},
     "output_type": "execute_result"
    },
    {
     "data": {
      "image/png": "[encoded data removed]",
      "text/plain": [
       "<Figure size 432x288 with 1 Axes>"
      ]
     },
     "metadata": {
      "needs_background": "light"
     },
     "output_type": "display_data"
    }
   ],
   "source": [
    "gender_marriage.set_index(['Gender','Marital_Status']).unstack().plot(kind='bar', stacked=False)"
   ]
  },
  {
   "cell_type": "markdown",
   "id": "f30bfcbf",
   "metadata": {},
   "source": [
    "We notice that there are more single shoppers than there are married shoppers across gender. This does not support our previous belief that a reason for more male purchasers is attributable to the fact that more couples go shopping togther and the husband purchases the products. We clearly see that single shoppers are more prevalent across both groups. \n",
    "\n",
    "Gender has potential to be a decent predictor for purchase. "
   ]
  },
  {
   "cell_type": "markdown",
   "id": "caf0c52d",
   "metadata": {},
   "source": [
    "Next, we would like to explore the age category. While exploring, we should consider:\n",
    "- if age has potential to be a good predictor for purchase \n",
    "- check differences in gender across age groups \n",
    "- check to see if there is much variation in the different age groups for purchases "
   ]
  },
  {
   "cell_type": "code",
   "execution_count": 126,
   "id": "ce74e002",
   "metadata": {
    "scrolled": true
   },
   "outputs": [
    {
     "data": {
      "image/png": "[encoded data removed]",
      "text/plain": [
       "<Figure size 432x288 with 1 Axes>"
      ]
     },
     "metadata": {
      "needs_background": "light"
     },
     "output_type": "display_data"
    }
   ],
   "source": [
    "sns.countplot(data['Age'])\n",
    "plt.show()"
   ]
  },
  {
   "cell_type": "markdown",
   "id": "2f16d986",
   "metadata": {},
   "source": [
    "From the bar plot above, we see that there are much more shoppers between the ages of 26-35 years than any of the other age groups. We understand from this that the product offerings are catered more towards this age group and one age group above (36-45) and one age group below (18-25) mainly. Since most shoppers are from these age groups, it would make sense for the business to continue stocking their inventory with more of these popular products to cater to these age groups. Knowing this, the business can focus on marketing for these specific age groups and spend the most on them since it is their largest customer composition. Furthermore, it can consider adding more variety in products if it wants to cater to all age groups and potentially increase sales.   "
   ]
  },
  {
   "cell_type": "markdown",
   "id": "2fe207b4",
   "metadata": {},
   "source": [
    "Next, let's check the gender decomposition across the popular age groups to see if males are consistently more across the 3 popular age groups. "
   ]
  },
  {
   "cell_type": "code",
   "execution_count": 127,
   "id": "b3bf53fc",
   "metadata": {},
   "outputs": [
    {
     "data": {
      "image/png": "[encoded data removed]",
      "text/plain": [
       "<Figure size 432x288 with 1 Axes>"
      ]
     },
     "metadata": {
      "needs_background": "light"
     },
     "output_type": "display_data"
    }
   ],
   "source": [
    "sns.countplot(data['Age'], hue = data['Gender'])\n",
    "plt.show()"
   ]
  },
  {
   "cell_type": "markdown",
   "id": "01e9291f",
   "metadata": {},
   "source": [
    "We verify that there are more male shoppers. The difference is especially noticable in the age group of 26-35. Males between ages of 26-35 constitute the largest portion of clients. This can help the business better allocate its energy and money towards targeting males between these age groups and increasing inventory count of these products or increase product offering similar to the ones already selling. Knowing this age group uses social media, the business can also use social media as another way of reaching and attracting customers. "
   ]
  },
  {
   "cell_type": "code",
   "execution_count": 128,
   "id": "1770e805",
   "metadata": {},
   "outputs": [
    {
     "data": {
      "text/plain": [
       "<AxesSubplot:xlabel='Age', ylabel='Purchase'>"
      ]
     },
     "execution_count": 128,
     "metadata": {},
     "output_type": "execute_result"
    },
    {
     "data": {
      "image/png": "[encoded data removed]",
      "text/plain": [
       "<Figure size 432x288 with 1 Axes>"
      ]
     },
     "metadata": {
      "needs_background": "light"
     },
     "output_type": "display_data"
    }
   ],
   "source": [
    "sns.boxplot('Age', 'Purchase', data = data)"
   ]
  },
  {
   "cell_type": "markdown",
   "id": "3056eec6",
   "metadata": {},
   "source": [
    "It is interesting to see that from the boxplot above there doesn't seem to be much variation in purchase amount across the different age groups. Maybe the less popular clients that fall outside the popular age groups stated earlier purchase more expensive products while the popular clients purchase the less expensive items which would balance and create small variation across age groups.  "
   ]
  },
  {
   "cell_type": "markdown",
   "id": "48689c4c",
   "metadata": {},
   "source": [
    "Check to see if there is variation in occupation across cities "
   ]
  },
  {
   "cell_type": "code",
   "execution_count": 129,
   "id": "ce67e26a",
   "metadata": {},
   "outputs": [],
   "source": [
    "city_categs = ['A', 'B', 'C']"
   ]
  },
  {
   "cell_type": "code",
   "execution_count": 130,
   "id": "1912c347",
   "metadata": {
    "scrolled": false
   },
   "outputs": [
    {
     "data": {
      "image/png": "[encoded data removed]",
      "text/plain": [
       "<Figure size 1008x720 with 1 Axes>"
      ]
     },
     "metadata": {
      "needs_background": "light"
     },
     "output_type": "display_data"
    }
   ],
   "source": [
    "fig1, ax1 = plt.subplots(figsize=(14,10))\n",
    "sns.countplot(data['City_Category'], order = city_categs, hue = data['Occupation'])\n",
    "plt.title('Number of Customers Per City', fontsize = 20)\n",
    "plt.xlabel('City', fontsize = 16)\n",
    "plt.ylabel('Count', fontsize = 16)\n",
    "plt.legend(loc = 'upper right')\n",
    "plt.tick_params(labelsize=14)\n",
    "plt.show()\n"
   ]
  },
  {
   "cell_type": "markdown",
   "id": "c7a146d2",
   "metadata": {},
   "source": [
    "We see that in each of the cities, there seems to be a similar occupation distribution. Occuption 0, 4, 7 seem to be popular occupations among the customers across the three different cities. There doesn't seem to be much fluctuation across cities. There is more variation in occupation rather than across cities. Therefore, occupation seems to be a better indicator of likelihood of being a customer rather than the city defining it. "
   ]
  },
  {
   "cell_type": "code",
   "execution_count": 131,
   "id": "551869b0",
   "metadata": {},
   "outputs": [
    {
     "data": {
      "image/png": "[encoded data removed]",
      "text/plain": [
       "<Figure size 1080x360 with 2 Axes>"
      ]
     },
     "metadata": {
      "needs_background": "light"
     },
     "output_type": "display_data"
    }
   ],
   "source": [
    "plt.figure(figsize=(15,5))\n",
    "plt.subplot(121)\n",
    "tot_purchases_city = data.groupby(['City_Category', 'Occupation']).agg({'Purchase':np.sum}).reset_index()\n",
    "sns.barplot('City_Category', 'Purchase', hue = 'Occupation', data = tot_purchases_city)\n",
    "plt.title('Total Purchase by City by Occupation',fontsize=18)\n",
    "plt.xlabel('City',fontsize=16)\n",
    "plt.ylabel('Total Purchase', fontsize = 16)\n",
    "plt.tick_params(labelsize=16)\n",
    "plt.legend().set_visible(False)\n",
    "\n",
    "plt.subplot(122)\n",
    "avg_purchases_city = data.groupby(['City_Category', 'Occupation']).agg({'Purchase':np.mean}).reset_index()\n",
    "sns.barplot('City_Category', 'Purchase', hue = 'Occupation', data = avg_purchases_city)\n",
    "plt.title('Average Purchase by Occupation',fontsize=18)\n",
    "plt.xlabel('City',fontsize=16)\n",
    "plt.ylabel('Average Purchase', fontsize = 16)\n",
    "plt.legend(title='Occupation',frameon=True,fontsize=10,bbox_to_anchor=(1,0.5), loc=\"center left\")\n",
    "plt.tick_params(labelsize=16)"
   ]
  },
  {
   "cell_type": "markdown",
   "id": "85729ad7",
   "metadata": {},
   "source": [
    "From the previous plot, we notice the same distribution and see how total number of customers reflects total purchases so they are positively correlated. From the plot on the right of the average purchase by occupation, we can see how occupation 8 from city A stands out from the rest. It is interesting that the average purchase was higher for Occupation 8 only in City A. This seems to be an outlier in the data. "
   ]
  },
  {
   "cell_type": "markdown",
   "id": "85b234b2",
   "metadata": {},
   "source": [
    "Similarly, we next would like to see the variation in age groups across the different cities. "
   ]
  },
  {
   "cell_type": "code",
   "execution_count": 132,
   "id": "1d406775",
   "metadata": {},
   "outputs": [
    {
     "data": {
      "image/png": "[encoded data removed]",
      "text/plain": [
       "<Figure size 792x504 with 1 Axes>"
      ]
     },
     "metadata": {
      "needs_background": "light"
     },
     "output_type": "display_data"
    }
   ],
   "source": [
    "fig1, ax1 = plt.subplots(figsize=(11,7))\n",
    "sns.countplot(data['City_Category'], order = city_categs, hue = data['Age'])\n",
    "plt.title('Number of Customers Per City', fontsize = 20)\n",
    "plt.xlabel('City', fontsize = 16)\n",
    "plt.ylabel('Count', fontsize = 16)\n",
    "plt.legend(loc = 'upper right')\n",
    "plt.tick_params(labelsize=14)\n",
    "plt.show()"
   ]
  },
  {
   "cell_type": "markdown",
   "id": "2ffedba1",
   "metadata": {},
   "source": [
    "We see a similar distribution of the different age groups across the 3 cities. The most popular age group of 26-35 is mostly from City B. It seems that the most purchases come from City B so the business can target this city more by increasing its advertising to City B. "
   ]
  },
  {
   "cell_type": "markdown",
   "id": "fc654e67",
   "metadata": {},
   "source": [
    "We next would like to see how the relation between residency years and total purchase. "
   ]
  },
  {
   "cell_type": "code",
   "execution_count": 133,
   "id": "96ab41ad",
   "metadata": {},
   "outputs": [
    {
     "data": {
      "text/plain": [
       "<matplotlib.legend.Legend at 0x13cc800cd60>"
      ]
     },
     "execution_count": 133,
     "metadata": {},
     "output_type": "execute_result"
    },
    {
     "data": {
      "image/png": "[encoded data removed]",
      "text/plain": [
       "<Figure size 792x504 with 1 Axes>"
      ]
     },
     "metadata": {
      "needs_background": "light"
     },
     "output_type": "display_data"
    }
   ],
   "source": [
    "plt.figure(figsize=(11,7))\n",
    "tot_purchases_yrs = data.groupby(['City_Category', 'Stay_In_Current_City_Years']).agg({'Purchase':np.sum}).reset_index()\n",
    "sns.barplot('City_Category', 'Purchase', hue = 'Stay_In_Current_City_Years', data = tot_purchases_yrs)\n",
    "plt.title('Total Purchase by Residency Years',fontsize=18)\n",
    "plt.xlabel('City',fontsize=16)\n",
    "plt.ylabel('Total Purchase', fontsize = 16)\n",
    "plt.tick_params(labelsize=16)\n",
    "plt.legend(title = 'Residency Years', fontsize = 16)"
   ]
  },
  {
   "cell_type": "markdown",
   "id": "0e622ae6",
   "metadata": {},
   "source": [
    "We once again see a similar residency duration distribution across the 3 cities. It seems to be that customers who have been a resident for 1 year have contributed to total purchases. This is apparent across all 3 cities in orange. New residents are probably not as acquainted with the city and business and have the lowest contribution to total purchases. "
   ]
  },
  {
   "cell_type": "markdown",
   "id": "6b0a61f0",
   "metadata": {},
   "source": [
    "We now want to analyze purchases of products in category 1. "
   ]
  },
  {
   "cell_type": "code",
   "execution_count": 134,
   "id": "931bd3e3",
   "metadata": {},
   "outputs": [
    {
     "data": {
      "text/html": [
       "<div>\n",
       "<style scoped>\n",
       "    .dataframe tbody tr th:only-of-type {\n",
       "        vertical-align: middle;\n",
       "    }\n",
       "\n",
       "    .dataframe tbody tr th {\n",
       "        vertical-align: top;\n",
       "    }\n",
       "\n",
       "    .dataframe thead th {\n",
       "        text-align: right;\n",
       "    }\n",
       "</style>\n",
       "<table border=\"1\" class=\"dataframe\">\n",
       "  <thead>\n",
       "    <tr style=\"text-align: right;\">\n",
       "      <th></th>\n",
       "      <th>User_ID</th>\n",
       "      <th>Product_ID</th>\n",
       "      <th>Product_Category_1</th>\n",
       "      <th>Purchase</th>\n",
       "    </tr>\n",
       "  </thead>\n",
       "  <tbody>\n",
       "    <tr>\n",
       "      <th>0</th>\n",
       "      <td>1000001</td>\n",
       "      <td>P00069042</td>\n",
       "      <td>3</td>\n",
       "      <td>8370</td>\n",
       "    </tr>\n",
       "    <tr>\n",
       "      <th>1</th>\n",
       "      <td>1000001</td>\n",
       "      <td>P00248942</td>\n",
       "      <td>1</td>\n",
       "      <td>15200</td>\n",
       "    </tr>\n",
       "    <tr>\n",
       "      <th>2</th>\n",
       "      <td>1000001</td>\n",
       "      <td>P00087842</td>\n",
       "      <td>12</td>\n",
       "      <td>1422</td>\n",
       "    </tr>\n",
       "    <tr>\n",
       "      <th>3</th>\n",
       "      <td>1000001</td>\n",
       "      <td>P00085442</td>\n",
       "      <td>12</td>\n",
       "      <td>1057</td>\n",
       "    </tr>\n",
       "    <tr>\n",
       "      <th>4</th>\n",
       "      <td>1000002</td>\n",
       "      <td>P00285442</td>\n",
       "      <td>8</td>\n",
       "      <td>7969</td>\n",
       "    </tr>\n",
       "  </tbody>\n",
       "</table>\n",
       "</div>"
      ],
      "text/plain": [
       "   User_ID Product_ID  Product_Category_1  Purchase\n",
       "0  1000001  P00069042                   3      8370\n",
       "1  1000001  P00248942                   1     15200\n",
       "2  1000001  P00087842                  12      1422\n",
       "3  1000001  P00085442                  12      1057\n",
       "4  1000002  P00285442                   8      7969"
      ]
     },
     "execution_count": 134,
     "metadata": {},
     "output_type": "execute_result"
    }
   ],
   "source": [
    "cols = ['User_ID', 'Product_ID', 'Product_Category_1', 'Purchase']\n",
    "a = data[cols]\n",
    "a.head()"
   ]
  },
  {
   "cell_type": "code",
   "execution_count": 135,
   "id": "1d2284e3",
   "metadata": {},
   "outputs": [
    {
     "data": {
      "text/html": [
       "<div>\n",
       "<style scoped>\n",
       "    .dataframe tbody tr th:only-of-type {\n",
       "        vertical-align: middle;\n",
       "    }\n",
       "\n",
       "    .dataframe tbody tr th {\n",
       "        vertical-align: top;\n",
       "    }\n",
       "\n",
       "    .dataframe thead th {\n",
       "        text-align: right;\n",
       "    }\n",
       "</style>\n",
       "<table border=\"1\" class=\"dataframe\">\n",
       "  <thead>\n",
       "    <tr style=\"text-align: right;\">\n",
       "      <th></th>\n",
       "      <th>Purchase</th>\n",
       "      <th>Product_ID</th>\n",
       "      <th>Product_Category_1</th>\n",
       "    </tr>\n",
       "    <tr>\n",
       "      <th>User_ID</th>\n",
       "      <th></th>\n",
       "      <th></th>\n",
       "      <th></th>\n",
       "    </tr>\n",
       "  </thead>\n",
       "  <tbody>\n",
       "    <tr>\n",
       "      <th>1004277</th>\n",
       "      <td>10536909</td>\n",
       "      <td>979</td>\n",
       "      <td>19</td>\n",
       "    </tr>\n",
       "    <tr>\n",
       "      <th>1001680</th>\n",
       "      <td>8699596</td>\n",
       "      <td>1026</td>\n",
       "      <td>18</td>\n",
       "    </tr>\n",
       "    <tr>\n",
       "      <th>1002909</th>\n",
       "      <td>7577756</td>\n",
       "      <td>718</td>\n",
       "      <td>19</td>\n",
       "    </tr>\n",
       "    <tr>\n",
       "      <th>1001941</th>\n",
       "      <td>6817493</td>\n",
       "      <td>898</td>\n",
       "      <td>16</td>\n",
       "    </tr>\n",
       "    <tr>\n",
       "      <th>1000424</th>\n",
       "      <td>6573609</td>\n",
       "      <td>694</td>\n",
       "      <td>17</td>\n",
       "    </tr>\n",
       "    <tr>\n",
       "      <th>1004448</th>\n",
       "      <td>6566245</td>\n",
       "      <td>575</td>\n",
       "      <td>16</td>\n",
       "    </tr>\n",
       "    <tr>\n",
       "      <th>1005831</th>\n",
       "      <td>6512433</td>\n",
       "      <td>727</td>\n",
       "      <td>17</td>\n",
       "    </tr>\n",
       "    <tr>\n",
       "      <th>1001015</th>\n",
       "      <td>6511314</td>\n",
       "      <td>740</td>\n",
       "      <td>19</td>\n",
       "    </tr>\n",
       "    <tr>\n",
       "      <th>1003391</th>\n",
       "      <td>6477160</td>\n",
       "      <td>698</td>\n",
       "      <td>17</td>\n",
       "    </tr>\n",
       "    <tr>\n",
       "      <th>1001181</th>\n",
       "      <td>6387961</td>\n",
       "      <td>862</td>\n",
       "      <td>19</td>\n",
       "    </tr>\n",
       "  </tbody>\n",
       "</table>\n",
       "</div>"
      ],
      "text/plain": [
       "         Purchase  Product_ID  Product_Category_1\n",
       "User_ID                                          \n",
       "1004277  10536909         979                  19\n",
       "1001680   8699596        1026                  18\n",
       "1002909   7577756         718                  19\n",
       "1001941   6817493         898                  16\n",
       "1000424   6573609         694                  17\n",
       "1004448   6566245         575                  16\n",
       "1005831   6512433         727                  17\n",
       "1001015   6511314         740                  19\n",
       "1003391   6477160         698                  17\n",
       "1001181   6387961         862                  19"
      ]
     },
     "execution_count": 135,
     "metadata": {},
     "output_type": "execute_result"
    }
   ],
   "source": [
    "userid_count = pd.DataFrame(a.groupby('User_ID')['Product_ID', 'Product_Category_1'].nunique())\n",
    "userid_count.head(10)\n",
    "\n",
    "userid_count = userid_count.sort_values('Product_ID', ascending = False)\n",
    "userid_count.head(10)\n",
    "\n",
    "p_amt_per_user = pd.DataFrame(a.groupby('User_ID')['Purchase'].sum())\n",
    "p_amt_per_user = p_amt_per_user.sort_values('Purchase', ascending = False)\n",
    "p_amt_per_user.head(10)\n",
    "\n",
    "newdf = pd.merge(p_amt_per_user, userid_count, left_index = True, right_index = True)\n",
    "newdf.head(10)\n",
    "                "
   ]
  },
  {
   "cell_type": "code",
   "execution_count": 136,
   "id": "7da12585",
   "metadata": {},
   "outputs": [
    {
     "data": {
      "text/plain": [
       "<matplotlib.colorbar.Colorbar at 0x13cca705880>"
      ]
     },
     "execution_count": 136,
     "metadata": {},
     "output_type": "execute_result"
    },
    {
     "data": {
      "image/png": "[encoded data removed]",
      "text/plain": [
       "<Figure size 792x504 with 2 Axes>"
      ]
     },
     "metadata": {
      "needs_background": "light"
     },
     "output_type": "display_data"
    }
   ],
   "source": [
    "fig, ax = plt.subplots(1, figsize = (11,7)) \n",
    "p = plt.scatter('Product_Category_1', 'Product_ID', data = newdf, c = 'Purchase',alpha = 0.7)\n",
    "plt.xlabel('Product_Category_1', fontsize = 16)\n",
    "plt.ylabel('Product_ID', fontsize = 16)\n",
    "plt.title('Purchase of Products in Product Category1', fontsize = 18)\n",
    "plt.tick_params(labelsize=14)\n",
    "fig.colorbar(p)"
   ]
  },
  {
   "cell_type": "markdown",
   "id": "05cbfecc",
   "metadata": {},
   "source": [
    "Product ID 1000 from from Product Category 1  seems to be the highest purchase amount. "
   ]
  },
  {
   "cell_type": "markdown",
   "id": "380a61dc",
   "metadata": {},
   "source": [
    "Lastly, we run a correlation plot to see the relationships among our variables. "
   ]
  },
  {
   "cell_type": "code",
   "execution_count": 137,
   "id": "0b3ebc67",
   "metadata": {},
   "outputs": [
    {
     "data": {
      "text/plain": [
       "<AxesSubplot:>"
      ]
     },
     "execution_count": 137,
     "metadata": {},
     "output_type": "execute_result"
    },
    {
     "data": {
      "image/png": "[encoded data removed]",
      "text/plain": [
       "<Figure size 864x648 with 2 Axes>"
      ]
     },
     "metadata": {
      "needs_background": "light"
     },
     "output_type": "display_data"
    }
   ],
   "source": [
    "corrmat = data.corr()\n",
    "fig,ax = plt.subplots(figsize = (12,9))\n",
    "sns.heatmap(corrmat, vmax=.8, square=True)"
   ]
  },
  {
   "cell_type": "markdown",
   "id": "45b55eb2",
   "metadata": {},
   "source": [
    "Variables correlated with Purchase:\n",
    "- Product_Category_3 (positive correlation) \n",
    "- Product_Category_1 (negative correlation)\n",
    "\n",
    "Perhaps product_category 3 is positively correlated because it offered cheaper products. \n",
    "So let's see if this is true by checking the average price of the product categories.\n"
   ]
  },
  {
   "cell_type": "code",
   "execution_count": 138,
   "id": "cb923f0c",
   "metadata": {},
   "outputs": [
    {
     "name": "stdout",
     "output_type": "stream",
     "text": [
      " Avg1: 5.404270017525106 \n",
      " Avg2: 6.735436346051761 \n",
      " Avg3: 3.841941359977312\n"
     ]
    }
   ],
   "source": [
    "mean1 = data['Product_Category_1'].mean()\n",
    "mean2 = data['Product_Category_2'].mean()\n",
    "mean3 = data['Product_Category_3'].mean()\n",
    "print(f\" Avg1: {mean1} \\n Avg2: {mean2} \\n Avg3: {mean3}\")"
   ]
  },
  {
   "cell_type": "markdown",
   "id": "e541c66f",
   "metadata": {},
   "source": [
    "The average price in product 3 is cheaper than the others categories as hypothesized. This would help explain the behavior of customers to buy more of these products from this category since it is more affordable. "
   ]
  },
  {
   "cell_type": "code",
   "execution_count": null,
   "id": "09efb640",
   "metadata": {},
   "outputs": [],
   "source": []
  },
  {
   "cell_type": "code",
   "execution_count": null,
   "id": "f3c07455",
   "metadata": {},
   "outputs": [],
   "source": []
  },
  {
   "cell_type": "code",
   "execution_count": null,
   "id": "811cddf3",
   "metadata": {},
   "outputs": [],
   "source": []
  }
 ],
 "metadata": {
  "kernelspec": {
   "display_name": "Python 3 (ipykernel)",
   "language": "python",
   "name": "python3"
  },
  "language_info": {
   "codemirror_mode": {
    "name": "ipython",
    "version": 3
   },
   "file_extension": ".py",
   "mimetype": "text/x-python",
   "name": "python",
   "nbconvert_exporter": "python",
   "pygments_lexer": "ipython3",
   "version": "3.9.12"
  }
 },
 "nbformat": 4,
 "nbformat_minor": 5
}
